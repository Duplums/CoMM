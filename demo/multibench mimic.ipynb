{
 "cells": [
  {
   "cell_type": "markdown",
   "metadata": {},
   "source": [
    "# CoMM on MultiBench dataset"
   ]
  },
  {
   "cell_type": "markdown",
   "metadata": {},
   "source": [
    "This notebook will show how to use CoMM on the [MultiBench dataset](https://github.com/pliang279/MultiBench) (see Table 1 in [our paper](https://arxiv.org/abs/2409.07402)). "
   ]
  },
  {
   "cell_type": "markdown",
   "metadata": {},
   "source": [
    "## Packages install and loading\n",
    "\n",
    "We start by installing and loading the required packages for this notebook:"
   ]
  },
  {
   "cell_type": "code",
   "execution_count": null,
   "metadata": {},
   "outputs": [],
   "source": [
    "%pip install torch\n",
    "%pip install omegaconf\n",
    "%pip install hydra-core\n",
    "%pip install pytorch-lightning\n",
    "%pip install scikit-learn\n",
    "%pip install torchvision\n",
    "%pip install tensorboard\n",
    "%pip install pandas\n",
    "%pip install einops\n",
    "%pip install matplotlib\n",
    "%pip install gdown"
   ]
  },
  {
   "cell_type": "code",
   "execution_count": 7,
   "metadata": {},
   "outputs": [],
   "source": [
    "import sys\n",
    "sys.path.append(\"../\")\n",
    "import numpy as np\n",
    "import torch\n",
    "from sklearn.linear_model import LogisticRegressionCV\n",
    "from dataset.multibench import MultiBenchDataModule\n",
    "from pytorch_lightning import Trainer\n",
    "from pl_modules.comm import CoMM\n",
    "from models.mmfusion import MMFusion\n",
    "from models.mlp import MLP\n",
    "from models.gru import GRU\n",
    "import warnings"
   ]
  },
  {
   "cell_type": "code",
   "execution_count": 2,
   "metadata": {},
   "outputs": [],
   "source": [
    "torch.manual_seed(45) # for reproducibility\n",
    "np.random.seed(45) \n",
    "warnings.filterwarnings(\"ignore\", category=UserWarning) # avoids sklearn warnings"
   ]
  },
  {
   "cell_type": "markdown",
   "metadata": {},
   "source": [
    "## Load the data "
   ]
  },
  {
   "cell_type": "markdown",
   "metadata": {},
   "source": [
    "MultiBench consists in 15 preprocessed datasets with predefined train/val/test splits. \n",
    "\n",
    "In this notebook, we will focus on MIMIC, a dataset that requires credientials before download (check https://mimic.mit.edu).\n",
    "\n",
    "Don't forget to set the correct data path in **dataset/catalog.json** ! "
   ]
  },
  {
   "cell_type": "code",
   "execution_count": 5,
   "metadata": {},
   "outputs": [],
   "source": [
    "# Load MIMIC \n",
    "data_module_mimic = MultiBenchDataModule(\"mimic\", model=\"CoMM\", \n",
    "                                        batch_size=64, num_workers=16, \n",
    "                                        modalities=[\"tabular\", \"timeseries\"], \n",
    "                                        augmentations=\"drop+noise\")\n",
    "\n",
    "downstream_mimic = MultiBenchDataModule(\"mimic\", model=\"Sup\", \n",
    "                                        batch_size=64, num_workers=16, \n",
    "                                        modalities=[\"tabular\", \"timeseries\"])"
   ]
  },
  {
   "cell_type": "markdown",
   "metadata": {},
   "source": [
    "## Evaluate CoMM on MultiBench data"
   ]
  },
  {
   "cell_type": "code",
   "execution_count": 6,
   "metadata": {},
   "outputs": [],
   "source": [
    "def classification_scoring(model, data_module, scoring=\"balanced_accuracy\"):\n",
    "    Z_train, y_train = model.extract_features(data_module.train_dataloader())\n",
    "    Z_test, y_test = model.extract_features(data_module.test_dataloader())\n",
    "    linear_model = LogisticRegressionCV(Cs=5, n_jobs=10, scoring=scoring)\n",
    "    linear_model.fit(Z_train.cpu().detach().numpy(), y_train.cpu().detach().numpy())\n",
    "    return linear_model.score(Z_test.cpu().detach().numpy(), y_test.cpu().detach().numpy())"
   ]
  },
  {
   "cell_type": "markdown",
   "metadata": {},
   "source": [
    "### MIMIC "
   ]
  },
  {
   "cell_type": "code",
   "execution_count": null,
   "metadata": {},
   "outputs": [],
   "source": [
    "comm = CoMM(\n",
    "    encoder=MMFusion(\n",
    "        encoders=[ # Handles tabular and timeseries data  \n",
    "            MLP(indim=5, hiddim=10, outdim=10, dropout=False), \n",
    "            GRU(indim=12, hiddim=512, dropout=False, batch_first=True), \n",
    "        ], \n",
    "        input_adapters=[FeaturesInputAdapter(n_features=10,dim_tokens=512), None], # No adapters needed\n",
    "        embed_dim=512\n",
    "    ),\n",
    "    projection=CoMM._build_mlp(512, 512, 256),\n",
    "    optim_kwargs=dict(lr=1e-3, weight_decay=1e-2),\n",
    "    loss_kwargs=dict(temperature=0.1)\n",
    ")"
   ]
  },
  {
   "cell_type": "code",
   "execution_count": 10,
   "metadata": {},
   "outputs": [
    {
     "name": "stderr",
     "output_type": "stream",
     "text": [
      "Trainer will use only 1 of 2 GPUs because it is running inside an interactive / notebook environment. You may try to set `Trainer(devices=2)` but please note that multi-GPU inside interactive / notebook environments is considered experimental and unstable. Your mileage may vary.\n",
      "GPU available: True (cuda), used: True\n",
      "TPU available: False, using: 0 TPU cores\n",
      "IPU available: False, using: 0 IPUs\n",
      "HPU available: False, using: 0 HPUs\n"
     ]
    }
   ],
   "source": [
    "trainer = Trainer(inference_mode=False, max_epochs=100)"
   ]
  },
  {
   "cell_type": "code",
   "execution_count": null,
   "metadata": {},
   "outputs": [],
   "source": [
    "trainer.fit(comm, datamodule=data_module_mimic)"
   ]
  },
  {
   "cell_type": "code",
   "execution_count": 11,
   "metadata": {},
   "outputs": [
    {
     "ename": "IndexError",
     "evalue": "too many indices for tensor of dimension 2",
     "output_type": "error",
     "traceback": [
      "\u001b[0;31m---------------------------------------------------------------------------\u001b[0m",
      "\u001b[0;31mIndexError\u001b[0m                                Traceback (most recent call last)",
      "Cell \u001b[0;32mIn[11], line 1\u001b[0m\n\u001b[0;32m----> 1\u001b[0m score \u001b[38;5;241m=\u001b[39m \u001b[43mclassification_scoring\u001b[49m\u001b[43m(\u001b[49m\u001b[43mcomm\u001b[49m\u001b[43m,\u001b[49m\u001b[43m \u001b[49m\u001b[43mdownstream_mimic\u001b[49m\u001b[43m)\u001b[49m\n",
      "Cell \u001b[0;32mIn[6], line 2\u001b[0m, in \u001b[0;36mclassification_scoring\u001b[0;34m(model, data_module, scoring)\u001b[0m\n\u001b[1;32m      1\u001b[0m \u001b[38;5;28;01mdef\u001b[39;00m \u001b[38;5;21mclassification_scoring\u001b[39m(model, data_module, scoring\u001b[38;5;241m=\u001b[39m\u001b[38;5;124m\"\u001b[39m\u001b[38;5;124mbalanced_accuracy\u001b[39m\u001b[38;5;124m\"\u001b[39m):\n\u001b[0;32m----> 2\u001b[0m     Z_train, y_train \u001b[38;5;241m=\u001b[39m \u001b[43mmodel\u001b[49m\u001b[38;5;241;43m.\u001b[39;49m\u001b[43mextract_features\u001b[49m\u001b[43m(\u001b[49m\u001b[43mdata_module\u001b[49m\u001b[38;5;241;43m.\u001b[39;49m\u001b[43mtrain_dataloader\u001b[49m\u001b[43m(\u001b[49m\u001b[43m)\u001b[49m\u001b[43m)\u001b[49m\n\u001b[1;32m      3\u001b[0m     Z_test, y_test \u001b[38;5;241m=\u001b[39m model\u001b[38;5;241m.\u001b[39mextract_features(data_module\u001b[38;5;241m.\u001b[39mtest_dataloader())\n\u001b[1;32m      4\u001b[0m     linear_model \u001b[38;5;241m=\u001b[39m LogisticRegressionCV(Cs\u001b[38;5;241m=\u001b[39m\u001b[38;5;241m5\u001b[39m, n_jobs\u001b[38;5;241m=\u001b[39m\u001b[38;5;241m10\u001b[39m, scoring\u001b[38;5;241m=\u001b[39mscoring)\n",
      "File \u001b[0;32m~/code/CoMM/demo/../pl_modules/comm.py:105\u001b[0m, in \u001b[0;36mCoMM.extract_features\u001b[0;34m(self, loader, **kwargs)\u001b[0m\n\u001b[1;32m    102\u001b[0m y_ \u001b[38;5;241m=\u001b[39m y_\u001b[38;5;241m.\u001b[39mto(\u001b[38;5;28mself\u001b[39m\u001b[38;5;241m.\u001b[39mdevice)\n\u001b[1;32m    103\u001b[0m \u001b[38;5;28;01mwith\u001b[39;00m torch\u001b[38;5;241m.\u001b[39minference_mode():\n\u001b[1;32m    104\u001b[0m     \u001b[38;5;66;03m# compute output\u001b[39;00m\n\u001b[0;32m--> 105\u001b[0m     output \u001b[38;5;241m=\u001b[39m \u001b[38;5;28;43mself\u001b[39;49m\u001b[38;5;241;43m.\u001b[39;49m\u001b[43mencoder\u001b[49m\u001b[43m(\u001b[49m\u001b[43mX_\u001b[49m\u001b[43m,\u001b[49m\u001b[43m \u001b[49m\u001b[38;5;241;43m*\u001b[39;49m\u001b[38;5;241;43m*\u001b[39;49m\u001b[43mkwargs\u001b[49m\u001b[43m)\u001b[49m\n\u001b[1;32m    106\u001b[0m     X\u001b[38;5;241m.\u001b[39mextend(output\u001b[38;5;241m.\u001b[39mview(\u001b[38;5;28mlen\u001b[39m(output), \u001b[38;5;241m-\u001b[39m\u001b[38;5;241m1\u001b[39m)\u001b[38;5;241m.\u001b[39mdetach()\u001b[38;5;241m.\u001b[39mcpu())\n\u001b[1;32m    107\u001b[0m     y\u001b[38;5;241m.\u001b[39mextend(y_\u001b[38;5;241m.\u001b[39mdetach()\u001b[38;5;241m.\u001b[39mcpu())\n",
      "File \u001b[0;32m~/miniconda3/envs/multimodal/lib/python3.8/site-packages/torch/nn/modules/module.py:1511\u001b[0m, in \u001b[0;36mModule._wrapped_call_impl\u001b[0;34m(self, *args, **kwargs)\u001b[0m\n\u001b[1;32m   1509\u001b[0m     \u001b[38;5;28;01mreturn\u001b[39;00m \u001b[38;5;28mself\u001b[39m\u001b[38;5;241m.\u001b[39m_compiled_call_impl(\u001b[38;5;241m*\u001b[39margs, \u001b[38;5;241m*\u001b[39m\u001b[38;5;241m*\u001b[39mkwargs)  \u001b[38;5;66;03m# type: ignore[misc]\u001b[39;00m\n\u001b[1;32m   1510\u001b[0m \u001b[38;5;28;01melse\u001b[39;00m:\n\u001b[0;32m-> 1511\u001b[0m     \u001b[38;5;28;01mreturn\u001b[39;00m \u001b[38;5;28;43mself\u001b[39;49m\u001b[38;5;241;43m.\u001b[39;49m\u001b[43m_call_impl\u001b[49m\u001b[43m(\u001b[49m\u001b[38;5;241;43m*\u001b[39;49m\u001b[43margs\u001b[49m\u001b[43m,\u001b[49m\u001b[43m \u001b[49m\u001b[38;5;241;43m*\u001b[39;49m\u001b[38;5;241;43m*\u001b[39;49m\u001b[43mkwargs\u001b[49m\u001b[43m)\u001b[49m\n",
      "File \u001b[0;32m~/miniconda3/envs/multimodal/lib/python3.8/site-packages/torch/nn/modules/module.py:1520\u001b[0m, in \u001b[0;36mModule._call_impl\u001b[0;34m(self, *args, **kwargs)\u001b[0m\n\u001b[1;32m   1515\u001b[0m \u001b[38;5;66;03m# If we don't have any hooks, we want to skip the rest of the logic in\u001b[39;00m\n\u001b[1;32m   1516\u001b[0m \u001b[38;5;66;03m# this function, and just call forward.\u001b[39;00m\n\u001b[1;32m   1517\u001b[0m \u001b[38;5;28;01mif\u001b[39;00m \u001b[38;5;129;01mnot\u001b[39;00m (\u001b[38;5;28mself\u001b[39m\u001b[38;5;241m.\u001b[39m_backward_hooks \u001b[38;5;129;01mor\u001b[39;00m \u001b[38;5;28mself\u001b[39m\u001b[38;5;241m.\u001b[39m_backward_pre_hooks \u001b[38;5;129;01mor\u001b[39;00m \u001b[38;5;28mself\u001b[39m\u001b[38;5;241m.\u001b[39m_forward_hooks \u001b[38;5;129;01mor\u001b[39;00m \u001b[38;5;28mself\u001b[39m\u001b[38;5;241m.\u001b[39m_forward_pre_hooks\n\u001b[1;32m   1518\u001b[0m         \u001b[38;5;129;01mor\u001b[39;00m _global_backward_pre_hooks \u001b[38;5;129;01mor\u001b[39;00m _global_backward_hooks\n\u001b[1;32m   1519\u001b[0m         \u001b[38;5;129;01mor\u001b[39;00m _global_forward_hooks \u001b[38;5;129;01mor\u001b[39;00m _global_forward_pre_hooks):\n\u001b[0;32m-> 1520\u001b[0m     \u001b[38;5;28;01mreturn\u001b[39;00m \u001b[43mforward_call\u001b[49m\u001b[43m(\u001b[49m\u001b[38;5;241;43m*\u001b[39;49m\u001b[43margs\u001b[49m\u001b[43m,\u001b[49m\u001b[43m \u001b[49m\u001b[38;5;241;43m*\u001b[39;49m\u001b[38;5;241;43m*\u001b[39;49m\u001b[43mkwargs\u001b[49m\u001b[43m)\u001b[49m\n\u001b[1;32m   1522\u001b[0m \u001b[38;5;28;01mtry\u001b[39;00m:\n\u001b[1;32m   1523\u001b[0m     result \u001b[38;5;241m=\u001b[39m \u001b[38;5;28;01mNone\u001b[39;00m\n",
      "File \u001b[0;32m~/code/CoMM/demo/../models/mmfusion.py:261\u001b[0m, in \u001b[0;36mMMFusion.forward\u001b[0;34m(self, x, mask_modalities)\u001b[0m\n\u001b[1;32m    258\u001b[0m \u001b[38;5;66;03m# 2. Tokenize each latent features\u001b[39;00m\n\u001b[1;32m    259\u001b[0m latent_tokens \u001b[38;5;241m=\u001b[39m [adapter(zi) \u001b[38;5;28;01mif\u001b[39;00m adapter \u001b[38;5;129;01mis\u001b[39;00m \u001b[38;5;129;01mnot\u001b[39;00m \u001b[38;5;28;01mNone\u001b[39;00m \u001b[38;5;28;01melse\u001b[39;00m zi\n\u001b[1;32m    260\u001b[0m                  \u001b[38;5;28;01mfor\u001b[39;00m (adapter, zi) \u001b[38;5;129;01min\u001b[39;00m \u001b[38;5;28mzip\u001b[39m(input_adapters, z)]\n\u001b[0;32m--> 261\u001b[0m attn_mask \u001b[38;5;241m=\u001b[39m [attn_mask_ \u001b[38;5;28;01mif\u001b[39;00m attn_mask_ \u001b[38;5;129;01mis\u001b[39;00m \u001b[38;5;129;01mnot\u001b[39;00m \u001b[38;5;28;01mNone\u001b[39;00m \u001b[38;5;28;01melse\u001b[39;00m torch\u001b[38;5;241m.\u001b[39mzeros_like(zi[:,:,\u001b[38;5;241m0\u001b[39m])\u001b[38;5;241m.\u001b[39mbool()\n\u001b[1;32m    262\u001b[0m              \u001b[38;5;28;01mfor\u001b[39;00m (attn_mask_, zi) \u001b[38;5;129;01min\u001b[39;00m \u001b[38;5;28mzip\u001b[39m(attn_mask, latent_tokens)]\n\u001b[1;32m    263\u001b[0m \u001b[38;5;28;01mif\u001b[39;00m list_mask_mod \u001b[38;5;129;01mis\u001b[39;00m \u001b[38;5;28;01mNone\u001b[39;00m:\n\u001b[1;32m    264\u001b[0m     \u001b[38;5;66;03m# 3. FusionTransformer forward pass\u001b[39;00m\n\u001b[1;32m    265\u001b[0m     z \u001b[38;5;241m=\u001b[39m \u001b[38;5;28mself\u001b[39m\u001b[38;5;241m.\u001b[39mfusion_transformer(latent_tokens, key_padding_mask\u001b[38;5;241m=\u001b[39mattn_mask)\n",
      "File \u001b[0;32m~/code/CoMM/demo/../models/mmfusion.py:261\u001b[0m, in \u001b[0;36m<listcomp>\u001b[0;34m(.0)\u001b[0m\n\u001b[1;32m    258\u001b[0m \u001b[38;5;66;03m# 2. Tokenize each latent features\u001b[39;00m\n\u001b[1;32m    259\u001b[0m latent_tokens \u001b[38;5;241m=\u001b[39m [adapter(zi) \u001b[38;5;28;01mif\u001b[39;00m adapter \u001b[38;5;129;01mis\u001b[39;00m \u001b[38;5;129;01mnot\u001b[39;00m \u001b[38;5;28;01mNone\u001b[39;00m \u001b[38;5;28;01melse\u001b[39;00m zi\n\u001b[1;32m    260\u001b[0m                  \u001b[38;5;28;01mfor\u001b[39;00m (adapter, zi) \u001b[38;5;129;01min\u001b[39;00m \u001b[38;5;28mzip\u001b[39m(input_adapters, z)]\n\u001b[0;32m--> 261\u001b[0m attn_mask \u001b[38;5;241m=\u001b[39m [attn_mask_ \u001b[38;5;28;01mif\u001b[39;00m attn_mask_ \u001b[38;5;129;01mis\u001b[39;00m \u001b[38;5;129;01mnot\u001b[39;00m \u001b[38;5;28;01mNone\u001b[39;00m \u001b[38;5;28;01melse\u001b[39;00m torch\u001b[38;5;241m.\u001b[39mzeros_like(\u001b[43mzi\u001b[49m\u001b[43m[\u001b[49m\u001b[43m:\u001b[49m\u001b[43m,\u001b[49m\u001b[43m:\u001b[49m\u001b[43m,\u001b[49m\u001b[38;5;241;43m0\u001b[39;49m\u001b[43m]\u001b[49m)\u001b[38;5;241m.\u001b[39mbool()\n\u001b[1;32m    262\u001b[0m              \u001b[38;5;28;01mfor\u001b[39;00m (attn_mask_, zi) \u001b[38;5;129;01min\u001b[39;00m \u001b[38;5;28mzip\u001b[39m(attn_mask, latent_tokens)]\n\u001b[1;32m    263\u001b[0m \u001b[38;5;28;01mif\u001b[39;00m list_mask_mod \u001b[38;5;129;01mis\u001b[39;00m \u001b[38;5;28;01mNone\u001b[39;00m:\n\u001b[1;32m    264\u001b[0m     \u001b[38;5;66;03m# 3. FusionTransformer forward pass\u001b[39;00m\n\u001b[1;32m    265\u001b[0m     z \u001b[38;5;241m=\u001b[39m \u001b[38;5;28mself\u001b[39m\u001b[38;5;241m.\u001b[39mfusion_transformer(latent_tokens, key_padding_mask\u001b[38;5;241m=\u001b[39mattn_mask)\n",
      "\u001b[0;31mIndexError\u001b[0m: too many indices for tensor of dimension 2"
     ]
    }
   ],
   "source": [
    "score = classification_scoring(comm, downstream_mimic)"
   ]
  },
  {
   "cell_type": "code",
   "execution_count": null,
   "metadata": {},
   "outputs": [
    {
     "name": "stdout",
     "output_type": "stream",
     "text": [
      "CoMM accuracy on MOSI=65.06\n"
     ]
    }
   ],
   "source": [
    "print(f\"CoMM accuracy on MIMIC={100 * score:.2f}\")"
   ]
  },
  {
   "cell_type": "markdown",
   "metadata": {},
   "source": [
    "### UR-FUNNY"
   ]
  },
  {
   "cell_type": "code",
   "execution_count": 5,
   "metadata": {},
   "outputs": [],
   "source": [
    "comm = CoMM(\n",
    "    encoder=MMFusion(\n",
    "        encoders=[ # Handles vision and textual modalities\n",
    "            Transformer(n_features=371, dim=40, max_seq_length=50, positional_encoding=False), \n",
    "            Transformer(n_features=300, dim=40, max_seq_length=50, positional_encoding=False), \n",
    "        ], \n",
    "        input_adapters=[None, None], # No adapters needed\n",
    "        embed_dim=40\n",
    "    ),\n",
    "    projection=CoMM._build_mlp(40, 512, 256),\n",
    "    optim_kwargs=dict(lr=1e-3, weight_decay=1e-2),\n",
    "    loss_kwargs=dict(temperature=0.1)\n",
    ")"
   ]
  },
  {
   "cell_type": "code",
   "execution_count": 6,
   "metadata": {},
   "outputs": [
    {
     "name": "stderr",
     "output_type": "stream",
     "text": [
      "Trainer will use only 1 of 2 GPUs because it is running inside an interactive / notebook environment. You may try to set `Trainer(devices=2)` but please note that multi-GPU inside interactive / notebook environments is considered experimental and unstable. Your mileage may vary.\n",
      "GPU available: True (cuda), used: True\n",
      "TPU available: False, using: 0 TPU cores\n",
      "IPU available: False, using: 0 IPUs\n",
      "HPU available: False, using: 0 HPUs\n"
     ]
    }
   ],
   "source": [
    "trainer = Trainer(inference_mode=False, max_epochs=100)"
   ]
  },
  {
   "cell_type": "code",
   "execution_count": null,
   "metadata": {},
   "outputs": [],
   "source": [
    "trainer.fit(comm, datamodule=data_module_humor)"
   ]
  },
  {
   "cell_type": "code",
   "execution_count": null,
   "metadata": {},
   "outputs": [],
   "source": [
    "score = classification_scoring(comm, downstream_humor)"
   ]
  },
  {
   "cell_type": "code",
   "execution_count": 9,
   "metadata": {},
   "outputs": [
    {
     "name": "stdout",
     "output_type": "stream",
     "text": [
      "CoMM accuracy on UR-FUNNY=62.24\n"
     ]
    }
   ],
   "source": [
    "print(f\"CoMM accuracy on UR-FUNNY={100 * score:.2f}\")"
   ]
  },
  {
   "cell_type": "markdown",
   "metadata": {},
   "source": [
    "### MUsTARD"
   ]
  },
  {
   "cell_type": "code",
   "execution_count": 10,
   "metadata": {},
   "outputs": [],
   "source": [
    "comm = CoMM(\n",
    "    encoder=MMFusion(\n",
    "        encoders=[ # Handles vision and textual modalities\n",
    "            Transformer(n_features=371, dim=40, max_seq_length=50, positional_encoding=False), \n",
    "            Transformer(n_features=300, dim=40, max_seq_length=50, positional_encoding=False), \n",
    "        ], \n",
    "        input_adapters=[None, None], # No adapters needed\n",
    "        embed_dim=40\n",
    "    ),\n",
    "    projection=CoMM._build_mlp(40, 512, 256),\n",
    "    optim_kwargs=dict(lr=1e-3, weight_decay=1e-2),\n",
    "    loss_kwargs=dict(temperature=0.1)\n",
    ")"
   ]
  },
  {
   "cell_type": "code",
   "execution_count": 11,
   "metadata": {},
   "outputs": [
    {
     "name": "stderr",
     "output_type": "stream",
     "text": [
      "Trainer will use only 1 of 2 GPUs because it is running inside an interactive / notebook environment. You may try to set `Trainer(devices=2)` but please note that multi-GPU inside interactive / notebook environments is considered experimental and unstable. Your mileage may vary.\n",
      "GPU available: True (cuda), used: True\n",
      "TPU available: False, using: 0 TPU cores\n",
      "IPU available: False, using: 0 IPUs\n",
      "HPU available: False, using: 0 HPUs\n"
     ]
    }
   ],
   "source": [
    "trainer = Trainer(inference_mode=False, max_epochs=100)"
   ]
  },
  {
   "cell_type": "code",
   "execution_count": null,
   "metadata": {},
   "outputs": [],
   "source": [
    "trainer.fit(comm, datamodule=data_module_sarcasm)"
   ]
  },
  {
   "cell_type": "code",
   "execution_count": null,
   "metadata": {},
   "outputs": [],
   "source": [
    "score = classification_scoring(comm, downstream_sarcasm)"
   ]
  },
  {
   "cell_type": "code",
   "execution_count": 14,
   "metadata": {},
   "outputs": [
    {
     "name": "stdout",
     "output_type": "stream",
     "text": [
      "CoMM accuracy on MUsTARD=64.91\n"
     ]
    }
   ],
   "source": [
    "print(f\"CoMM accuracy on MUsTARD={100 * score:.2f}\")"
   ]
  },
  {
   "cell_type": "code",
   "execution_count": null,
   "metadata": {},
   "outputs": [],
   "source": []
  }
 ],
 "metadata": {
  "kernelspec": {
   "display_name": "multimodal",
   "language": "python",
   "name": "python3"
  },
  "language_info": {
   "codemirror_mode": {
    "name": "ipython",
    "version": 3
   },
   "file_extension": ".py",
   "mimetype": "text/x-python",
   "name": "python",
   "nbconvert_exporter": "python",
   "pygments_lexer": "ipython3",
   "version": "3.8.18"
  }
 },
 "nbformat": 4,
 "nbformat_minor": 2
}
